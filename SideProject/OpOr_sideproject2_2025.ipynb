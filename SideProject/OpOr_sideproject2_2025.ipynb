{
  "cells": [
    {
      "cell_type": "code",
      "execution_count": 1,
      "metadata": {
        "id": "GwyuZC0gwUXa"
      },
      "outputs": [],
      "source": [
        "import numpy as np\n",
        "#!pip install gurobipy\n",
        "import gurobipy as gp\n",
        "GRB = gp.GRB\n",
        "import time"
      ]
    },
    {
      "cell_type": "code",
      "execution_count": 2,
      "metadata": {
        "id": "3pDNycTIwVoi"
      },
      "outputs": [],
      "source": [
        "def flowshopwithtimelags(d, e, tlagsmin, tlagsmax):\n",
        "    n = len(d[0])  # nombre de jobs\n",
        "    m = len(d)     # nombre de machines\n",
        "\n",
        "    # Modèle\n",
        "    model = gp.Model(\"FlowshopWithTimeLags\")\n",
        "\n",
        "\n",
        "    # Variables de permutation : x[i,j] = 1 si job i est en position j\n",
        "    x = model.addVars(n, n, vtype=GRB.BINARY)\n",
        "\n",
        "    # Dates de fin C[i,k] pour chaque job i sur chaque machine k\n",
        "    C = model.addVars(n, m, vtype=GRB.CONTINUOUS)\n",
        "\n",
        "    # Variables de retard : 1 si le job i termine après son échéance\n",
        "    retard = model.addVars(n, vtype=GRB.BINARY)\n",
        "\n",
        "    # Contraintes de permutation\n",
        "    for i in range(n):\n",
        "        model.addConstr(gp.quicksum(x[i, j] for j in range(n)) == 1)  # Chaque job à une position\n",
        "    for j in range(n):\n",
        "        model.addConstr(gp.quicksum(x[i, j] for i in range(n)) == 1)  # Une seule job par position\n",
        "\n",
        "    # Définition des C[i,0] : première machine\n",
        "    for i in range(n):\n",
        "        for j in range(n):\n",
        "            for jp in range(n):\n",
        "                if jp < j:\n",
        "                    model.addConstr(C[i, 0] >= C[i, 0] + 0 * x[i, j] * x[i, jp])  # Pour respecter le style, mais inutile ici\n",
        "        model.addConstr(C[i, 0] >= gp.quicksum(x[i, j] * (\n",
        "            gp.quicksum(x[ip, jp] * d[0][ip] for ip in range(n) for jp in range(j) if jp < j)\n",
        "        ) for j in range(n)))\n",
        "\n",
        "    # Calcul de C[i,k] avec time lags, pour k > 0\n",
        "    for i in range(n):\n",
        "        for k in range(1, m):\n",
        "            model.addConstr(C[i, k] >= C[i, k - 1] + d[k - 1][i] + tlagsmin[k][i])\n",
        "            model.addConstr(C[i, k] <= C[i, k - 1] + d[k - 1][i] + tlagsmax[k][i])\n",
        "\n",
        "    # Calcul du retard\n",
        "    for i in range(n):\n",
        "        model.addConstr(retard[i] >= (C[i, m - 1] - e[i]) / 10000)  # Relaxation linéaire\n",
        "        model.addConstr(retard[i] <= 1)\n",
        "\n",
        "    # Objectif : minimiser le nombre de jobs en retard\n",
        "    model.setObjective(gp.quicksum(retard[i] for i in range(n)), GRB.MINIMIZE)\n",
        "\n",
        "    # Résolution\n",
        "    model.optimize()\n",
        "\n",
        "    # Reconstitution de l'ordonnancement\n",
        "    if model.status == GRB.OPTIMAL:\n",
        "        ordre = [-1] * n\n",
        "        for i in range(n):\n",
        "            for j in range(n):\n",
        "                if x[i, j].X > 0.5:\n",
        "                    ordre[j] = i + 1  # Pour avoir une permutation de {1, ..., n}\n",
        "        Ntmin = int(sum(retard[i].X for i in range(n)))\n",
        "        return ordre, Ntmin\n",
        "    else:\n",
        "        raise Exception(\"Aucune solution optimale trouvée.\")\n"
      ]
    },
    {
      "cell_type": "code",
      "execution_count": 3,
      "metadata": {
        "id": "aGVW8qmIwonJ"
      },
      "outputs": [],
      "source": [
        "def flowshopwithtimelagslexico(d,e,tlagsmin,tlagsmax):\n",
        "  ...\n",
        "\n",
        "  return ordonnancement, Ntmin, Cmaxmin"
      ]
    },
    {
      "cell_type": "code",
      "execution_count": 4,
      "metadata": {
        "id": "T5Q_1J2Pwr4o"
      },
      "outputs": [],
      "source": [
        "#DONNEES\n",
        "# n = 20\n",
        "# m = 5\n",
        "# d = [[96,68,91,46,88,29,23,74,91,45,69,36,34,91,77,25,40,70,30,52],\n",
        "#      [81,39,92,63,83,60,39,97,27,94,22,59,46,93,99,66,62,71,76,73],\n",
        "#      [97,31,93,58,96,37,94,47,91,47,79,66,20,33,38,54,29,56,70,85],\n",
        "#      [61,77,82,69,27,54,66,89,72,46,90,41,75,79,79,92,55,47,64,62],\n",
        "#      [91,82,96,75,68,51,75,22,20,91,80,93,53,50,46,58,90,60,51,20]]\n",
        "# e = [1377,1559,1384,1175,1489,1536,1275,1526,1433,1426,1159,1275,1280,1141,1081,1429,1366,1271,1282,1535]\n",
        "\n",
        "# tlagsmin = [[0,0,0,0,0,0,0,0,0,0,0,0,0,0,0,0,0,0,0,0],\n",
        "#             [87,87,42,14,8,44,33,8,71,14,11,52,62,53,17,35,74,46,81,81],\n",
        "#             [60,40,75,40,2,70,23,12,42,20,16,34,70,91,28,62,2,46,73,4],\n",
        "#             [53,64,18,83,27,84,0,56,76,33,62,28,19,2,23,1,30,22,45,14],\n",
        "#             [30,48,67,13,2,80,23,12,2,13,66,61,3,68,2,2,68,12,69,53]]\n",
        "# tlagsmax = [[0,0,0,0,0,0,0,0,0,0,0,0,0,0,0,0,0,0,0,0],\n",
        "#            [116,98,96,38,68,50,115,67,109,36,34,54,76,87,96,87,87,98,119,109],\n",
        "#            [103,110,76,86,93,91,29,55,58,96,66,55,92,117,33,113,11,60,88,23],\n",
        "#            [84,118,63,97,39,91,106,82,105,77,68,76,67,93,97,9,56,60,77,79],\n",
        "#            [84,86,82,80,81,102,48,73,51,81,75,86,39,99,65,93,86,84,98,84]]\n",
        "\n",
        "\n",
        "# DONNÉES RÉDUITES (pour contourner la limite de taille de Gurobi)\n",
        "n = 6\n",
        "m = 5\n",
        "\n",
        "d = [\n",
        "    [96, 68, 91, 46, 88, 29],  # Machine 1\n",
        "    [81, 39, 92, 63, 83, 60],  # Machine 2\n",
        "    [97, 31, 93, 58, 96, 37],  # Machine 3\n",
        "    [61, 77, 82, 69, 27, 54],  # Machine 4\n",
        "    [91, 82, 96, 75, 68, 51],  # Machine 5\n",
        "]\n",
        "\n",
        "e = [1377, 1559, 1384, 1175, 1489, 1536]\n",
        "\n",
        "tlagsmin = [\n",
        "    [0, 0, 0, 0, 0, 0],        # Pas de time lag min pour la 1re machine\n",
        "    [87, 87, 42, 14, 8, 44],   # Entre M1 et M2\n",
        "    [60, 40, 75, 40, 2, 70],   # Entre M2 et M3\n",
        "    [53, 64, 18, 83, 27, 84],  # Entre M3 et M4\n",
        "    [30, 48, 67, 13, 2, 80],   # Entre M4 et M5\n",
        "]\n",
        "\n",
        "tlagsmax = [\n",
        "    [0, 0, 0, 0, 0, 0],\n",
        "    [116, 98, 96, 38, 68, 50],\n",
        "    [103, 110, 76, 86, 93, 91],\n",
        "    [84, 118, 63, 97, 39, 91],\n",
        "    [84, 86, 82, 80, 81, 102],\n",
        "]\n"
      ]
    },
    {
      "cell_type": "code",
      "execution_count": 5,
      "metadata": {
        "id": "73J4F4-3zB1Z"
      },
      "outputs": [
        {
          "name": "stdout",
          "output_type": "stream",
          "text": [
            "Set parameter Username\n",
            "Set parameter LicenseID to value 2661355\n",
            "Academic license - for non-commercial use only - expires 2026-05-06\n",
            "Gurobi Optimizer version 12.0.1 build v12.0.1rc0 (win64 - Windows 11.0 (26100.2))\n",
            "\n",
            "CPU model: Intel(R) Core(TM) i5-1035G4 CPU @ 1.10GHz, instruction set [SSE2|AVX|AVX2|AVX512]\n",
            "Thread count: 4 physical cores, 8 logical processors, using up to 8 threads\n",
            "\n",
            "Optimize a model with 72 rows, 72 columns and 186 nonzeros\n",
            "Model fingerprint: 0xb0e6cfe7\n",
            "Model has 96 quadratic constraints\n",
            "Variable types: 30 continuous, 42 integer (42 binary)\n",
            "Coefficient statistics:\n",
            "  Matrix range     [1e-04, 1e+00]\n",
            "  QMatrix range    [3e+01, 1e+02]\n",
            "  QLMatrix range   [1e+00, 1e+00]\n",
            "  Objective range  [1e+00, 1e+00]\n",
            "  Bounds range     [1e+00, 1e+00]\n",
            "  RHS range        [1e-01, 2e+02]\n",
            "Presolve removed 24 rows and 6 columns\n",
            "Presolve time: 0.01s\n",
            "Presolved: 594 rows, 606 columns, 2322 nonzeros\n",
            "Variable types: 24 continuous, 582 integer (582 binary)\n",
            "Found heuristic solution: objective 0.0000000\n",
            "\n",
            "Explored 0 nodes (0 simplex iterations) in 0.06 seconds (0.00 work units)\n",
            "Thread count was 8 (of 8 available processors)\n",
            "\n",
            "Solution count 1: 0 \n",
            "\n",
            "Optimal solution found (tolerance 1.00e-04)\n",
            "Best objective 0.000000000000e+00, best bound 0.000000000000e+00, gap 0.0000%\n"
          ]
        }
      ],
      "source": [
        "start_time = time.time()\n",
        "ordonnancement, Ntmin = flowshopwithtimelags(d,e,tlagsmin,tlagsmax)\n",
        "end_time = time.time()-start_time"
      ]
    },
    {
      "cell_type": "code",
      "execution_count": 6,
      "metadata": {
        "id": "dTvsisAKzC1K"
      },
      "outputs": [
        {
          "ename": "NameError",
          "evalue": "name 'Cmaxmin' is not defined",
          "output_type": "error",
          "traceback": [
            "\u001b[31m---------------------------------------------------------------------------\u001b[39m",
            "\u001b[31mNameError\u001b[39m                                 Traceback (most recent call last)",
            "\u001b[36mCell\u001b[39m\u001b[36m \u001b[39m\u001b[32mIn[6]\u001b[39m\u001b[32m, line 2\u001b[39m\n\u001b[32m      1\u001b[39m start_time = time.time()\n\u001b[32m----> \u001b[39m\u001b[32m2\u001b[39m ordonnancement, Ntmin, Cmaxmin = \u001b[43mflowshopwithtimelagslexico\u001b[49m\u001b[43m(\u001b[49m\u001b[43md\u001b[49m\u001b[43m,\u001b[49m\u001b[43me\u001b[49m\u001b[43m,\u001b[49m\u001b[43mtlagsmin\u001b[49m\u001b[43m,\u001b[49m\u001b[43mtlagsmax\u001b[49m\u001b[43m)\u001b[49m\n\u001b[32m      3\u001b[39m end_time = time.time()-start_time\n",
            "\u001b[36mCell\u001b[39m\u001b[36m \u001b[39m\u001b[32mIn[3]\u001b[39m\u001b[32m, line 4\u001b[39m, in \u001b[36mflowshopwithtimelagslexico\u001b[39m\u001b[34m(d, e, tlagsmin, tlagsmax)\u001b[39m\n\u001b[32m      1\u001b[39m \u001b[38;5;28;01mdef\u001b[39;00m\u001b[38;5;250m \u001b[39m\u001b[34mflowshopwithtimelagslexico\u001b[39m(d,e,tlagsmin,tlagsmax):\n\u001b[32m      2\u001b[39m   ...\n\u001b[32m----> \u001b[39m\u001b[32m4\u001b[39m   \u001b[38;5;28;01mreturn\u001b[39;00m ordonnancement, Ntmin, \u001b[43mCmaxmin\u001b[49m\n",
            "\u001b[31mNameError\u001b[39m: name 'Cmaxmin' is not defined"
          ]
        }
      ],
      "source": [
        "start_time = time.time()\n",
        "ordonnancement, Ntmin, Cmaxmin = flowshopwithtimelagslexico(d,e,tlagsmin,tlagsmax)\n",
        "end_time = time.time()-start_time"
      ]
    }
  ],
  "metadata": {
    "colab": {
      "provenance": []
    },
    "kernelspec": {
      "display_name": "Python 3",
      "name": "python3"
    },
    "language_info": {
      "codemirror_mode": {
        "name": "ipython",
        "version": 3
      },
      "file_extension": ".py",
      "mimetype": "text/x-python",
      "name": "python",
      "nbconvert_exporter": "python",
      "pygments_lexer": "ipython3",
      "version": "3.11.9"
    }
  },
  "nbformat": 4,
  "nbformat_minor": 0
}
